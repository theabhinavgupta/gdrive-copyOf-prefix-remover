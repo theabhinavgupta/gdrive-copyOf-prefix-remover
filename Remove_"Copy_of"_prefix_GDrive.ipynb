{
  "nbformat": 4,
  "nbformat_minor": 0,
  "metadata": {
    "colab": {
      "name": "Remove \"Copy of\" prefix GDrive.ipynb",
      "provenance": [],
      "authorship_tag": "ABX9TyMQ1qeK+IZOmtX+vLjXoIIv",
      "include_colab_link": true
    },
    "kernelspec": {
      "name": "python3",
      "display_name": "Python 3"
    },
    "language_info": {
      "name": "python"
    }
  },
  "cells": [
    {
      "cell_type": "markdown",
      "metadata": {
        "id": "view-in-github",
        "colab_type": "text"
      },
      "source": [
        "<a href=\"https://colab.research.google.com/github/theabhinavgupta/gdrive-copyOf-prefix-remover/blob/main/Remove_%22Copy_of%22_prefix_GDrive.ipynb\" target=\"_parent\"><img src=\"https://colab.research.google.com/assets/colab-badge.svg\" alt=\"Open In Colab\"/></a>"
      ]
    },
    {
      "cell_type": "code",
      "metadata": {
        "id": "zgjMEW__tjOs"
      },
      "source": [
        "from google.colab import drive\n",
        "import os\n",
        "\n",
        "def remove_copyOf_prefix(filename, directory_name):\n",
        "    newFilename = filename[8:]\n",
        "    oldname = directory_name + filename\n",
        "    newname = directory_name + newFilename\n",
        "    os.rename(oldname,newname)\n",
        "    \n",
        "def ifHasPrefix(filename):\n",
        "    return (filename[:8] == \"Copy of \")"
      ],
      "execution_count": 17,
      "outputs": []
    },
    {
      "cell_type": "code",
      "metadata": {
        "colab": {
          "base_uri": "https://localhost:8080/"
        },
        "id": "XW_yrlkfvhb4",
        "outputId": "3cf6f47a-f872-4667-ebb4-25082c958394"
      },
      "source": [
        "drive.mount('/content/gdrive')\n",
        "\n",
        "target_folder = \"gdrive/MyDrive/\" + input(\"Enter directory name where the files to be processed are located in your Google Drive? [don't prefix with '/content/gdrive/My Drive']\") + \"/\"\n",
        "\n",
        "files_list = os.listdir(target_folder)\n",
        "\n",
        "i = 0\n",
        "for file in files_list:\n",
        "    if ifHasPrefix(file):\n",
        "        i += 1\n",
        "        remove_copyOf_prefix(file, target_folder)\n",
        "\n",
        "print(f\"Process Complete! Renamed {i} file(s).\")"
      ],
      "execution_count": 44,
      "outputs": [
        {
          "output_type": "stream",
          "text": [
            "Drive already mounted at /content/gdrive; to attempt to forcibly remount, call drive.mount(\"/content/gdrive\", force_remount=True).\n",
            "Enter directory name where the files to be processed are located in your Google Drive? [don't prefix with '/content/gdrive/My Drive']Ethics CRHSP OUCH\n",
            "Process Complete! Renamed 0 file(s).\n"
          ],
          "name": "stdout"
        }
      ]
    }
  ]
}